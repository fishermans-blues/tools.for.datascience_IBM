{
 "cells": [
  {
   "cell_type": "markdown",
   "id": "5b09d246-8ec6-418c-a8bb-b4a45174295f",
   "metadata": {},
   "source": [
    "# Data Science Tools and Ecosystem "
   ]
  },
  {
   "cell_type": "markdown",
   "id": "caa4477c-076c-4f4e-8ef9-14fc1e2a739d",
   "metadata": {},
   "source": [
    "This notebook is used to summarize Data Science Tools and Ecosystem. "
   ]
  },
  {
   "cell_type": "markdown",
   "id": "6e3ffee1-8be1-4002-a643-36379c4f34b8",
   "metadata": {},
   "source": [
    "Data scientists use many languages. Some of the most popular ones include: \n",
    "1. Python\n",
    "2. R\n",
    "3. SQL"
   ]
  },
  {
   "cell_type": "markdown",
   "id": "e12c5b6a-2f22-4d9b-935d-568de4369a7b",
   "metadata": {},
   "source": [
    "Data sciences also use libraries. Some of the most commonly used libraries in Data Science are: \n",
    "1. Pandas\n",
    "2. SciKitLearn\n",
    "3. Matplotlib\n",
    "\n"
   ]
  },
  {
   "cell_type": "markdown",
   "id": "fde4d930-ccc1-44cb-9ec7-0bdb3f46ee61",
   "metadata": {},
   "source": [
    "\n",
    "|Data Science Tools|\n",
    "|------------------|\n",
    "|Jupyter Notebooks|\n",
    "|Git|\n",
    "|Apache|"
   ]
  },
  {
   "cell_type": "markdown",
   "id": "85830778-faf0-49b1-9ade-f8c76fcedd26",
   "metadata": {},
   "source": [
    "### Here are a few examples of using Python to evalute arithmetic expressions:"
   ]
  },
  {
   "cell_type": "code",
   "execution_count": 1,
   "id": "14523d9f-778e-4a8c-8b49-fbc20a92aaa9",
   "metadata": {},
   "outputs": [
    {
     "data": {
      "text/plain": [
       "17"
      ]
     },
     "execution_count": 1,
     "metadata": {},
     "output_type": "execute_result"
    }
   ],
   "source": [
    "#This cell uses multiplies, then adds integers using a simple arithmetic expression. \n",
    "(3*4)+5 "
   ]
  },
  {
   "cell_type": "code",
   "execution_count": 2,
   "id": "374c8706-3164-4751-87d1-cb556b3234a6",
   "metadata": {},
   "outputs": [
    {
     "data": {
      "text/plain": [
       "3.3333333333333335"
      ]
     },
     "execution_count": 2,
     "metadata": {},
     "output_type": "execute_result"
    }
   ],
   "source": [
    "#This cell will demonstrate how to convert minutes into hours using python. It will convert 200 minutes to hours by dividing by 60. \n",
    "\n",
    "200/60"
   ]
  },
  {
   "cell_type": "markdown",
   "id": "cc6d040b-5989-4ac4-bd08-5e193bcedaee",
   "metadata": {},
   "source": [
    "**Objectives:**\n",
    "* List the most common/popular languages used for data science.\n",
    "* Demonstrate knowledge of popular data science tools and libraries.\n",
    "* Use Python for simple arithmetic functions. "
   ]
  },
  {
   "cell_type": "markdown",
   "id": "0fae7b7d-027a-43cb-922b-48665beb2873",
   "metadata": {},
   "source": [
    "## Author\n",
    "Andrea Hansen"
   ]
  }
 ],
 "metadata": {
  "kernelspec": {
   "display_name": "Python 3 (ipykernel)",
   "language": "python",
   "name": "python3"
  },
  "language_info": {
   "codemirror_mode": {
    "name": "ipython",
    "version": 3
   },
   "file_extension": ".py",
   "mimetype": "text/x-python",
   "name": "python",
   "nbconvert_exporter": "python",
   "pygments_lexer": "ipython3",
   "version": "3.12.8"
  }
 },
 "nbformat": 4,
 "nbformat_minor": 5
}
